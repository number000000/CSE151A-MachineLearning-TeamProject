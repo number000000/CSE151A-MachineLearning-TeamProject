{
  "nbformat": 4,
  "nbformat_minor": 0,
  "metadata": {
    "colab": {
      "provenance": [],
      "include_colab_link": true
    },
    "kernelspec": {
      "name": "python3",
      "display_name": "Python 3"
    },
    "language_info": {
      "name": "python"
    }
  },
  "cells": [
    {
      "cell_type": "markdown",
      "metadata": {
        "id": "view-in-github",
        "colab_type": "text"
      },
      "source": [
        "<a href=\"https://colab.research.google.com/github/number000000/CSE151A-MachineLearning-TeamProject/blob/main/Model1(ANN/DNN)%5BMilestone3%5D.ipynb\" target=\"_parent\"><img src=\"https://colab.research.google.com/assets/colab-badge.svg\" alt=\"Open In Colab\"/></a>"
      ]
    },
    {
      "cell_type": "code",
      "source": [
        "!pip install ucimlrepo"
      ],
      "metadata": {
        "colab": {
          "base_uri": "https://localhost:8080/"
        },
        "id": "nbiF3N3Qdzpq",
        "outputId": "3b4fe058-c90f-4e71-f8cb-15a4a9987a3d"
      },
      "execution_count": null,
      "outputs": [
        {
          "output_type": "stream",
          "name": "stdout",
          "text": [
            "Requirement already satisfied: ucimlrepo in /usr/local/lib/python3.10/dist-packages (0.0.3)\n"
          ]
        }
      ]
    },
    {
      "cell_type": "code",
      "execution_count": null,
      "metadata": {
        "id": "BuBNVyoycbwa"
      },
      "outputs": [],
      "source": [
        "import pandas as pd\n",
        "import numpy as np\n",
        "import seaborn as sns\n",
        "from ucimlrepo import fetch_ucirepo\n",
        "from sklearn.preprocessing import MinMaxScaler\n",
        "from sklearn.preprocessing import OneHotEncoder\n",
        "from sklearn.preprocessing import LabelEncoder\n",
        "from tensorflow.keras.models import Sequential\n",
        "from tensorflow.keras.layers import Dense\n",
        "from sklearn.model_selection import train_test_split\n",
        "from sklearn.metrics import classification_report\n",
        "import tensorflow as tf"
      ]
    },
    {
      "cell_type": "code",
      "source": [
        "rice_cammeo_and_osmancik = fetch_ucirepo(id=545)"
      ],
      "metadata": {
        "id": "4PQ8wZrQd2IW"
      },
      "execution_count": null,
      "outputs": []
    },
    {
      "cell_type": "code",
      "source": [
        "X = rice_cammeo_and_osmancik.data.features\n",
        "y = rice_cammeo_and_osmancik.data.targets"
      ],
      "metadata": {
        "id": "LMfaBt63d5Gw"
      },
      "execution_count": null,
      "outputs": []
    },
    {
      "cell_type": "code",
      "source": [
        "X.info()\n",
        "y.info()"
      ],
      "metadata": {
        "colab": {
          "base_uri": "https://localhost:8080/"
        },
        "id": "d-SWMsRmeEjN",
        "outputId": "730a23b9-21b5-4504-d799-ae60eaa9c8ef"
      },
      "execution_count": null,
      "outputs": [
        {
          "output_type": "stream",
          "name": "stdout",
          "text": [
            "<class 'pandas.core.frame.DataFrame'>\n",
            "RangeIndex: 3810 entries, 0 to 3809\n",
            "Data columns (total 7 columns):\n",
            " #   Column             Non-Null Count  Dtype  \n",
            "---  ------             --------------  -----  \n",
            " 0   Area               3810 non-null   int64  \n",
            " 1   Perimeter          3810 non-null   float64\n",
            " 2   Major_Axis_Length  3810 non-null   float64\n",
            " 3   Minor_Axis_Length  3810 non-null   float64\n",
            " 4   Eccentricity       3810 non-null   float64\n",
            " 5   Convex_Area        3810 non-null   int64  \n",
            " 6   Extent             3810 non-null   float64\n",
            "dtypes: float64(5), int64(2)\n",
            "memory usage: 208.5 KB\n",
            "<class 'pandas.core.frame.DataFrame'>\n",
            "RangeIndex: 3810 entries, 0 to 3809\n",
            "Data columns (total 1 columns):\n",
            " #   Column  Non-Null Count  Dtype \n",
            "---  ------  --------------  ----- \n",
            " 0   Class   3810 non-null   object\n",
            "dtypes: object(1)\n",
            "memory usage: 29.9+ KB\n"
          ]
        }
      ]
    },
    {
      "cell_type": "code",
      "source": [
        "X.describe()"
      ],
      "metadata": {
        "colab": {
          "base_uri": "https://localhost:8080/",
          "height": 300
        },
        "id": "ZFgqyuVGeLIi",
        "outputId": "273687f3-b8e6-4d48-dbe8-1daa3ddafb6f"
      },
      "execution_count": null,
      "outputs": [
        {
          "output_type": "execute_result",
          "data": {
            "text/plain": [
              "               Area    Perimeter  Major_Axis_Length  Minor_Axis_Length  \\\n",
              "count   3810.000000  3810.000000        3810.000000        3810.000000   \n",
              "mean   12667.727559   454.239180         188.776222          86.313750   \n",
              "std     1732.367706    35.597081          17.448679           5.729817   \n",
              "min     7551.000000   359.100006         145.264465          59.532406   \n",
              "25%    11370.500000   426.144752         174.353855          82.731695   \n",
              "50%    12421.500000   448.852493         185.810059          86.434647   \n",
              "75%    13950.000000   483.683746         203.550438          90.143677   \n",
              "max    18913.000000   548.445984         239.010498         107.542450   \n",
              "\n",
              "       Eccentricity   Convex_Area       Extent  \n",
              "count   3810.000000   3810.000000  3810.000000  \n",
              "mean       0.886871  12952.496850     0.661934  \n",
              "std        0.020818   1776.972042     0.077239  \n",
              "min        0.777233   7723.000000     0.497413  \n",
              "25%        0.872402  11626.250000     0.598862  \n",
              "50%        0.889050  12706.500000     0.645361  \n",
              "75%        0.902588  14284.000000     0.726562  \n",
              "max        0.948007  19099.000000     0.861050  "
            ],
            "text/html": [
              "\n",
              "  <div id=\"df-db4e71fb-d3a1-4707-a66e-062bfd371169\" class=\"colab-df-container\">\n",
              "    <div>\n",
              "<style scoped>\n",
              "    .dataframe tbody tr th:only-of-type {\n",
              "        vertical-align: middle;\n",
              "    }\n",
              "\n",
              "    .dataframe tbody tr th {\n",
              "        vertical-align: top;\n",
              "    }\n",
              "\n",
              "    .dataframe thead th {\n",
              "        text-align: right;\n",
              "    }\n",
              "</style>\n",
              "<table border=\"1\" class=\"dataframe\">\n",
              "  <thead>\n",
              "    <tr style=\"text-align: right;\">\n",
              "      <th></th>\n",
              "      <th>Area</th>\n",
              "      <th>Perimeter</th>\n",
              "      <th>Major_Axis_Length</th>\n",
              "      <th>Minor_Axis_Length</th>\n",
              "      <th>Eccentricity</th>\n",
              "      <th>Convex_Area</th>\n",
              "      <th>Extent</th>\n",
              "    </tr>\n",
              "  </thead>\n",
              "  <tbody>\n",
              "    <tr>\n",
              "      <th>count</th>\n",
              "      <td>3810.000000</td>\n",
              "      <td>3810.000000</td>\n",
              "      <td>3810.000000</td>\n",
              "      <td>3810.000000</td>\n",
              "      <td>3810.000000</td>\n",
              "      <td>3810.000000</td>\n",
              "      <td>3810.000000</td>\n",
              "    </tr>\n",
              "    <tr>\n",
              "      <th>mean</th>\n",
              "      <td>12667.727559</td>\n",
              "      <td>454.239180</td>\n",
              "      <td>188.776222</td>\n",
              "      <td>86.313750</td>\n",
              "      <td>0.886871</td>\n",
              "      <td>12952.496850</td>\n",
              "      <td>0.661934</td>\n",
              "    </tr>\n",
              "    <tr>\n",
              "      <th>std</th>\n",
              "      <td>1732.367706</td>\n",
              "      <td>35.597081</td>\n",
              "      <td>17.448679</td>\n",
              "      <td>5.729817</td>\n",
              "      <td>0.020818</td>\n",
              "      <td>1776.972042</td>\n",
              "      <td>0.077239</td>\n",
              "    </tr>\n",
              "    <tr>\n",
              "      <th>min</th>\n",
              "      <td>7551.000000</td>\n",
              "      <td>359.100006</td>\n",
              "      <td>145.264465</td>\n",
              "      <td>59.532406</td>\n",
              "      <td>0.777233</td>\n",
              "      <td>7723.000000</td>\n",
              "      <td>0.497413</td>\n",
              "    </tr>\n",
              "    <tr>\n",
              "      <th>25%</th>\n",
              "      <td>11370.500000</td>\n",
              "      <td>426.144752</td>\n",
              "      <td>174.353855</td>\n",
              "      <td>82.731695</td>\n",
              "      <td>0.872402</td>\n",
              "      <td>11626.250000</td>\n",
              "      <td>0.598862</td>\n",
              "    </tr>\n",
              "    <tr>\n",
              "      <th>50%</th>\n",
              "      <td>12421.500000</td>\n",
              "      <td>448.852493</td>\n",
              "      <td>185.810059</td>\n",
              "      <td>86.434647</td>\n",
              "      <td>0.889050</td>\n",
              "      <td>12706.500000</td>\n",
              "      <td>0.645361</td>\n",
              "    </tr>\n",
              "    <tr>\n",
              "      <th>75%</th>\n",
              "      <td>13950.000000</td>\n",
              "      <td>483.683746</td>\n",
              "      <td>203.550438</td>\n",
              "      <td>90.143677</td>\n",
              "      <td>0.902588</td>\n",
              "      <td>14284.000000</td>\n",
              "      <td>0.726562</td>\n",
              "    </tr>\n",
              "    <tr>\n",
              "      <th>max</th>\n",
              "      <td>18913.000000</td>\n",
              "      <td>548.445984</td>\n",
              "      <td>239.010498</td>\n",
              "      <td>107.542450</td>\n",
              "      <td>0.948007</td>\n",
              "      <td>19099.000000</td>\n",
              "      <td>0.861050</td>\n",
              "    </tr>\n",
              "  </tbody>\n",
              "</table>\n",
              "</div>\n",
              "    <div class=\"colab-df-buttons\">\n",
              "\n",
              "  <div class=\"colab-df-container\">\n",
              "    <button class=\"colab-df-convert\" onclick=\"convertToInteractive('df-db4e71fb-d3a1-4707-a66e-062bfd371169')\"\n",
              "            title=\"Convert this dataframe to an interactive table.\"\n",
              "            style=\"display:none;\">\n",
              "\n",
              "  <svg xmlns=\"http://www.w3.org/2000/svg\" height=\"24px\" viewBox=\"0 -960 960 960\">\n",
              "    <path d=\"M120-120v-720h720v720H120Zm60-500h600v-160H180v160Zm220 220h160v-160H400v160Zm0 220h160v-160H400v160ZM180-400h160v-160H180v160Zm440 0h160v-160H620v160ZM180-180h160v-160H180v160Zm440 0h160v-160H620v160Z\"/>\n",
              "  </svg>\n",
              "    </button>\n",
              "\n",
              "  <style>\n",
              "    .colab-df-container {\n",
              "      display:flex;\n",
              "      gap: 12px;\n",
              "    }\n",
              "\n",
              "    .colab-df-convert {\n",
              "      background-color: #E8F0FE;\n",
              "      border: none;\n",
              "      border-radius: 50%;\n",
              "      cursor: pointer;\n",
              "      display: none;\n",
              "      fill: #1967D2;\n",
              "      height: 32px;\n",
              "      padding: 0 0 0 0;\n",
              "      width: 32px;\n",
              "    }\n",
              "\n",
              "    .colab-df-convert:hover {\n",
              "      background-color: #E2EBFA;\n",
              "      box-shadow: 0px 1px 2px rgba(60, 64, 67, 0.3), 0px 1px 3px 1px rgba(60, 64, 67, 0.15);\n",
              "      fill: #174EA6;\n",
              "    }\n",
              "\n",
              "    .colab-df-buttons div {\n",
              "      margin-bottom: 4px;\n",
              "    }\n",
              "\n",
              "    [theme=dark] .colab-df-convert {\n",
              "      background-color: #3B4455;\n",
              "      fill: #D2E3FC;\n",
              "    }\n",
              "\n",
              "    [theme=dark] .colab-df-convert:hover {\n",
              "      background-color: #434B5C;\n",
              "      box-shadow: 0px 1px 3px 1px rgba(0, 0, 0, 0.15);\n",
              "      filter: drop-shadow(0px 1px 2px rgba(0, 0, 0, 0.3));\n",
              "      fill: #FFFFFF;\n",
              "    }\n",
              "  </style>\n",
              "\n",
              "    <script>\n",
              "      const buttonEl =\n",
              "        document.querySelector('#df-db4e71fb-d3a1-4707-a66e-062bfd371169 button.colab-df-convert');\n",
              "      buttonEl.style.display =\n",
              "        google.colab.kernel.accessAllowed ? 'block' : 'none';\n",
              "\n",
              "      async function convertToInteractive(key) {\n",
              "        const element = document.querySelector('#df-db4e71fb-d3a1-4707-a66e-062bfd371169');\n",
              "        const dataTable =\n",
              "          await google.colab.kernel.invokeFunction('convertToInteractive',\n",
              "                                                    [key], {});\n",
              "        if (!dataTable) return;\n",
              "\n",
              "        const docLinkHtml = 'Like what you see? Visit the ' +\n",
              "          '<a target=\"_blank\" href=https://colab.research.google.com/notebooks/data_table.ipynb>data table notebook</a>'\n",
              "          + ' to learn more about interactive tables.';\n",
              "        element.innerHTML = '';\n",
              "        dataTable['output_type'] = 'display_data';\n",
              "        await google.colab.output.renderOutput(dataTable, element);\n",
              "        const docLink = document.createElement('div');\n",
              "        docLink.innerHTML = docLinkHtml;\n",
              "        element.appendChild(docLink);\n",
              "      }\n",
              "    </script>\n",
              "  </div>\n",
              "\n",
              "\n",
              "<div id=\"df-65425ba5-bbb1-45d8-85d2-a8c95026aab1\">\n",
              "  <button class=\"colab-df-quickchart\" onclick=\"quickchart('df-65425ba5-bbb1-45d8-85d2-a8c95026aab1')\"\n",
              "            title=\"Suggest charts\"\n",
              "            style=\"display:none;\">\n",
              "\n",
              "<svg xmlns=\"http://www.w3.org/2000/svg\" height=\"24px\"viewBox=\"0 0 24 24\"\n",
              "     width=\"24px\">\n",
              "    <g>\n",
              "        <path d=\"M19 3H5c-1.1 0-2 .9-2 2v14c0 1.1.9 2 2 2h14c1.1 0 2-.9 2-2V5c0-1.1-.9-2-2-2zM9 17H7v-7h2v7zm4 0h-2V7h2v10zm4 0h-2v-4h2v4z\"/>\n",
              "    </g>\n",
              "</svg>\n",
              "  </button>\n",
              "\n",
              "<style>\n",
              "  .colab-df-quickchart {\n",
              "      --bg-color: #E8F0FE;\n",
              "      --fill-color: #1967D2;\n",
              "      --hover-bg-color: #E2EBFA;\n",
              "      --hover-fill-color: #174EA6;\n",
              "      --disabled-fill-color: #AAA;\n",
              "      --disabled-bg-color: #DDD;\n",
              "  }\n",
              "\n",
              "  [theme=dark] .colab-df-quickchart {\n",
              "      --bg-color: #3B4455;\n",
              "      --fill-color: #D2E3FC;\n",
              "      --hover-bg-color: #434B5C;\n",
              "      --hover-fill-color: #FFFFFF;\n",
              "      --disabled-bg-color: #3B4455;\n",
              "      --disabled-fill-color: #666;\n",
              "  }\n",
              "\n",
              "  .colab-df-quickchart {\n",
              "    background-color: var(--bg-color);\n",
              "    border: none;\n",
              "    border-radius: 50%;\n",
              "    cursor: pointer;\n",
              "    display: none;\n",
              "    fill: var(--fill-color);\n",
              "    height: 32px;\n",
              "    padding: 0;\n",
              "    width: 32px;\n",
              "  }\n",
              "\n",
              "  .colab-df-quickchart:hover {\n",
              "    background-color: var(--hover-bg-color);\n",
              "    box-shadow: 0 1px 2px rgba(60, 64, 67, 0.3), 0 1px 3px 1px rgba(60, 64, 67, 0.15);\n",
              "    fill: var(--button-hover-fill-color);\n",
              "  }\n",
              "\n",
              "  .colab-df-quickchart-complete:disabled,\n",
              "  .colab-df-quickchart-complete:disabled:hover {\n",
              "    background-color: var(--disabled-bg-color);\n",
              "    fill: var(--disabled-fill-color);\n",
              "    box-shadow: none;\n",
              "  }\n",
              "\n",
              "  .colab-df-spinner {\n",
              "    border: 2px solid var(--fill-color);\n",
              "    border-color: transparent;\n",
              "    border-bottom-color: var(--fill-color);\n",
              "    animation:\n",
              "      spin 1s steps(1) infinite;\n",
              "  }\n",
              "\n",
              "  @keyframes spin {\n",
              "    0% {\n",
              "      border-color: transparent;\n",
              "      border-bottom-color: var(--fill-color);\n",
              "      border-left-color: var(--fill-color);\n",
              "    }\n",
              "    20% {\n",
              "      border-color: transparent;\n",
              "      border-left-color: var(--fill-color);\n",
              "      border-top-color: var(--fill-color);\n",
              "    }\n",
              "    30% {\n",
              "      border-color: transparent;\n",
              "      border-left-color: var(--fill-color);\n",
              "      border-top-color: var(--fill-color);\n",
              "      border-right-color: var(--fill-color);\n",
              "    }\n",
              "    40% {\n",
              "      border-color: transparent;\n",
              "      border-right-color: var(--fill-color);\n",
              "      border-top-color: var(--fill-color);\n",
              "    }\n",
              "    60% {\n",
              "      border-color: transparent;\n",
              "      border-right-color: var(--fill-color);\n",
              "    }\n",
              "    80% {\n",
              "      border-color: transparent;\n",
              "      border-right-color: var(--fill-color);\n",
              "      border-bottom-color: var(--fill-color);\n",
              "    }\n",
              "    90% {\n",
              "      border-color: transparent;\n",
              "      border-bottom-color: var(--fill-color);\n",
              "    }\n",
              "  }\n",
              "</style>\n",
              "\n",
              "  <script>\n",
              "    async function quickchart(key) {\n",
              "      const quickchartButtonEl =\n",
              "        document.querySelector('#' + key + ' button');\n",
              "      quickchartButtonEl.disabled = true;  // To prevent multiple clicks.\n",
              "      quickchartButtonEl.classList.add('colab-df-spinner');\n",
              "      try {\n",
              "        const charts = await google.colab.kernel.invokeFunction(\n",
              "            'suggestCharts', [key], {});\n",
              "      } catch (error) {\n",
              "        console.error('Error during call to suggestCharts:', error);\n",
              "      }\n",
              "      quickchartButtonEl.classList.remove('colab-df-spinner');\n",
              "      quickchartButtonEl.classList.add('colab-df-quickchart-complete');\n",
              "    }\n",
              "    (() => {\n",
              "      let quickchartButtonEl =\n",
              "        document.querySelector('#df-65425ba5-bbb1-45d8-85d2-a8c95026aab1 button');\n",
              "      quickchartButtonEl.style.display =\n",
              "        google.colab.kernel.accessAllowed ? 'block' : 'none';\n",
              "    })();\n",
              "  </script>\n",
              "</div>\n",
              "    </div>\n",
              "  </div>\n"
            ],
            "application/vnd.google.colaboratory.intrinsic+json": {
              "type": "dataframe",
              "summary": "{\n  \"name\": \"X\",\n  \"rows\": 8,\n  \"fields\": [\n    {\n      \"column\": \"Area\",\n      \"properties\": {\n        \"dtype\": \"number\",\n        \"std\": 5629.520748894491,\n        \"min\": 1732.3677060741602,\n        \"max\": 18913.0,\n        \"num_unique_values\": 8,\n        \"samples\": [\n          12667.727559055118,\n          12421.5,\n          3810.0\n        ],\n        \"semantic_type\": \"\",\n        \"description\": \"\"\n      }\n    },\n    {\n      \"column\": \"Perimeter\",\n      \"properties\": {\n        \"dtype\": \"number\",\n        \"std\": 1217.8033948087727,\n        \"min\": 35.59708144220462,\n        \"max\": 3810.0,\n        \"num_unique_values\": 8,\n        \"samples\": [\n          454.23918014839893,\n          448.85249325,\n          3810.0\n        ],\n        \"semantic_type\": \"\",\n        \"description\": \"\"\n      }\n    },\n    {\n      \"column\": \"Major_Axis_Length\",\n      \"properties\": {\n        \"dtype\": \"number\",\n        \"std\": 1290.415120344948,\n        \"min\": 17.44867850111315,\n        \"max\": 3810.0,\n        \"num_unique_values\": 8,\n        \"samples\": [\n          188.7762219769291,\n          185.8100586,\n          3810.0\n        ],\n        \"semantic_type\": \"\",\n        \"description\": \"\"\n      }\n    },\n    {\n      \"column\": \"Minor_Axis_Length\",\n      \"properties\": {\n        \"dtype\": \"number\",\n        \"std\": 1321.2127625185624,\n        \"min\": 5.729817333702081,\n        \"max\": 3810.0,\n        \"num_unique_values\": 8,\n        \"samples\": [\n          86.3137503715958,\n          86.43464660500001,\n          3810.0\n        ],\n        \"semantic_type\": \"\",\n        \"description\": \"\"\n      }\n    },\n    {\n      \"column\": \"Eccentricity\",\n      \"properties\": {\n        \"dtype\": \"number\",\n        \"std\": 1346.7709152635507,\n        \"min\": 0.020817634100670838,\n        \"max\": 3810.0,\n        \"num_unique_values\": 8,\n        \"samples\": [\n          0.8868705067435696,\n          0.8890500965,\n          3810.0\n        ],\n        \"semantic_type\": \"\",\n        \"description\": \"\"\n      }\n    },\n    {\n      \"column\": \"Convex_Area\",\n      \"properties\": {\n        \"dtype\": \"number\",\n        \"std\": 5719.293981980173,\n        \"min\": 1776.9720420835554,\n        \"max\": 19099.0,\n        \"num_unique_values\": 8,\n        \"samples\": [\n          12952.496850393702,\n          12706.5,\n          3810.0\n        ],\n        \"semantic_type\": \"\",\n        \"description\": \"\"\n      }\n    },\n    {\n      \"column\": \"Extent\",\n      \"properties\": {\n        \"dtype\": \"number\",\n        \"std\": 1346.8329515933308,\n        \"min\": 0.07723877329086311,\n        \"max\": 3810.0,\n        \"num_unique_values\": 8,\n        \"samples\": [\n          0.661934037912861,\n          0.6453614235,\n          3810.0\n        ],\n        \"semantic_type\": \"\",\n        \"description\": \"\"\n      }\n    }\n  ]\n}"
            }
          },
          "metadata": {},
          "execution_count": 6
        }
      ]
    },
    {
      "cell_type": "code",
      "source": [
        "X.isnull().sum()"
      ],
      "metadata": {
        "colab": {
          "base_uri": "https://localhost:8080/"
        },
        "id": "tW8DqQD-eK7u",
        "outputId": "13b44574-43ff-4f0d-8bd9-e5208e201e46"
      },
      "execution_count": null,
      "outputs": [
        {
          "output_type": "execute_result",
          "data": {
            "text/plain": [
              "Area                 0\n",
              "Perimeter            0\n",
              "Major_Axis_Length    0\n",
              "Minor_Axis_Length    0\n",
              "Eccentricity         0\n",
              "Convex_Area          0\n",
              "Extent               0\n",
              "dtype: int64"
            ]
          },
          "metadata": {},
          "execution_count": 7
        }
      ]
    },
    {
      "cell_type": "code",
      "source": [
        "y['Class'].value_counts()"
      ],
      "metadata": {
        "colab": {
          "base_uri": "https://localhost:8080/"
        },
        "id": "U6mTv4x5eOY5",
        "outputId": "25861fe5-e7fb-4886-f0cb-f34a0ae08236"
      },
      "execution_count": null,
      "outputs": [
        {
          "output_type": "execute_result",
          "data": {
            "text/plain": [
              "Osmancik    2180\n",
              "Cammeo      1630\n",
              "Name: Class, dtype: int64"
            ]
          },
          "metadata": {},
          "execution_count": 8
        }
      ]
    },
    {
      "cell_type": "code",
      "source": [
        "scaler = MinMaxScaler()\n",
        "X_normalized = scaler.fit_transform(X)\n",
        "X_normalized"
      ],
      "metadata": {
        "colab": {
          "base_uri": "https://localhost:8080/"
        },
        "id": "tX5vCwQUeRhR",
        "outputId": "85395901-d582-46ea-cac9-92effd3ab2eb"
      },
      "execution_count": null,
      "outputs": [
        {
          "output_type": "execute_result",
          "data": {
            "text/plain": [
              "array([[0.67593733, 0.87923163, 0.90121587, ..., 0.88801055, 0.69391702,\n",
              "        0.20757716],\n",
              "       [0.62533005, 0.71409491, 0.64808716, ..., 0.69197987, 0.64600914,\n",
              "        0.32456423],\n",
              "       [0.62339377, 0.75006612, 0.73434911, ..., 0.78984635, 0.63563643,\n",
              "        0.53857594],\n",
              "       ...,\n",
              "       [0.43002992, 0.44045819, 0.40864083, ..., 0.60847407, 0.43266526,\n",
              "        0.35564534],\n",
              "       [0.20515754, 0.17532451, 0.16992207, ..., 0.56901705, 0.20868495,\n",
              "        0.44453926],\n",
              "       [0.34175321, 0.24088172, 0.16869838, ..., 0.28376388, 0.34001406,\n",
              "        0.84022485]])"
            ]
          },
          "metadata": {},
          "execution_count": 9
        }
      ]
    },
    {
      "cell_type": "code",
      "source": [
        "label_encoder = LabelEncoder()\n",
        "y['Class'] = label_encoder.fit_transform(y['Class'])"
      ],
      "metadata": {
        "colab": {
          "base_uri": "https://localhost:8080/"
        },
        "id": "CuptzeF-eXmo",
        "outputId": "6541756d-d34c-46d2-fb71-e5cd6b00eb88"
      },
      "execution_count": null,
      "outputs": [
        {
          "output_type": "stream",
          "name": "stderr",
          "text": [
            "<ipython-input-10-d20a001ba4a5>:2: SettingWithCopyWarning: \n",
            "A value is trying to be set on a copy of a slice from a DataFrame.\n",
            "Try using .loc[row_indexer,col_indexer] = value instead\n",
            "\n",
            "See the caveats in the documentation: https://pandas.pydata.org/pandas-docs/stable/user_guide/indexing.html#returning-a-view-versus-a-copy\n",
            "  y['Class'] = label_encoder.fit_transform(y['Class'])\n"
          ]
        }
      ]
    },
    {
      "cell_type": "code",
      "source": [
        "X_train, X_test, y_train, y_test = train_test_split(X_normalized, y, test_size=0.2, random_state=42)"
      ],
      "metadata": {
        "id": "SiK5xihRgKeT"
      },
      "execution_count": null,
      "outputs": []
    },
    {
      "cell_type": "code",
      "source": [
        "model = Sequential() # Initialising the ANN/DNN\n",
        "model.add(Dense(units = 64, activation = 'relu', input_shape=(X_train.shape[1],)))\n",
        "model.add(Dense(units = 16, activation = 'relu'))\n",
        "model.add(Dense(units = 1, activation = 'sigmoid'))"
      ],
      "metadata": {
        "id": "kYvllqpnfArY"
      },
      "execution_count": null,
      "outputs": []
    },
    {
      "cell_type": "code",
      "source": [
        "model.compile(optimizer = 'rmsprop', loss = 'binary_crossentropy',\n",
        "              metrics=[\n",
        "                  tf.keras.metrics.Precision(name='precision'),\n",
        "                  tf.keras.metrics.Recall(name='recall'),\n",
        "                  'accuracy'\n",
        "                  ])\n"
      ],
      "metadata": {
        "id": "HDbXQNY9fE3U"
      },
      "execution_count": null,
      "outputs": []
    },
    {
      "cell_type": "code",
      "source": [
        "history = model.fit(X_train.astype('float'), y_train, batch_size = 1, epochs = 10, validation_split=0.2, verbose = 0)"
      ],
      "metadata": {
        "id": "nd14IWsUgdeM"
      },
      "execution_count": null,
      "outputs": []
    },
    {
      "cell_type": "code",
      "source": [
        "yhat_test1 = model.predict(X_test.astype(float))\n",
        "yhat_test1 = [ 1 if y>=0.5 else 0 for y in yhat_test1 ]\n",
        "print(classification_report(y_test,yhat_test1))\n",
        "\n",
        "test_loss = model.evaluate(X_test, y_test)\n",
        "print(f\"Test loss: {test_loss}\")\n",
        "\n",
        "# Extracting training and validation loss and accuracies\n",
        "training_loss = history.history['loss'][0]\n",
        "validation_loss = history.history['val_loss'][0]\n",
        "training_accuracy = history.history['accuracy']\n",
        "validation_accuracy = history.history['val_accuracy']\n",
        "\n",
        "print(f\"training_loss: {training_loss}\")\n",
        "print(f\"validation_loss: {validation_loss}\")\n",
        "print(f\"training_accuracy: {training_accuracy}\")\n",
        "print(f\"validation_accuracy: {validation_accuracy}\")"
      ],
      "metadata": {
        "colab": {
          "base_uri": "https://localhost:8080/"
        },
        "id": "ji1td8K_iCS3",
        "outputId": "2519f49c-909a-4bb8-a155-d4aa94f309c7"
      },
      "execution_count": null,
      "outputs": [
        {
          "output_type": "stream",
          "name": "stdout",
          "text": [
            "24/24 [==============================] - 0s 1ms/step\n",
            "              precision    recall  f1-score   support\n",
            "\n",
            "           0       0.89      0.95      0.92       350\n",
            "           1       0.95      0.90      0.93       412\n",
            "\n",
            "    accuracy                           0.92       762\n",
            "   macro avg       0.92      0.93      0.92       762\n",
            "weighted avg       0.93      0.92      0.92       762\n",
            "\n",
            "24/24 [==============================] - 0s 2ms/step - loss: 0.1923 - precision: 0.9538 - recall: 0.9029 - accuracy: 0.9239\n",
            "Test loss: [0.19226959347724915, 0.9538461565971375, 0.9029126167297363, 0.9238845109939575]\n",
            "training_loss: 0.36448246240615845\n",
            "validation_loss: 0.20769146084785461\n",
            "training_accuracy: [0.8679245114326477, 0.9138638377189636, 0.9237079620361328, 0.9237079620361328, 0.9228876233100891, 0.9228876233100891, 0.9200164079666138, 0.920426607131958, 0.9200164079666138, 0.9245283007621765]\n",
            "validation_accuracy: [0.9196721315383911, 0.9213114976882935, 0.911475419998169, 0.9245901703834534, 0.9245901703834534, 0.9147540926933289, 0.9131147265434265, 0.922950804233551, 0.9278688430786133, 0.9131147265434265]\n"
          ]
        }
      ]
    },
    {
      "cell_type": "markdown",
      "source": [
        "## Where does your model fit in the fitting graph.\n",
        "Accuracy, Precision, Recall, and F1-score are consistently high on the test dataset (around 93%), indicating that the model performs well on unseen data.\n",
        "\n",
        "Loss metrics show that the validation loss (with values ranging from about 0.20 to 0.24) is reasonably close to the training loss (which decreases to about 0.23 by the end of training), and the test loss is also low (0.1883).\n",
        "\n",
        "We can see the training, validating, and testing metrics perform good and similar to each other which show that our model is just right. No overfitting or underfitting happen."
      ],
      "metadata": {
        "id": "0e1oGUe-k66n"
      }
    },
    {
      "cell_type": "markdown",
      "source": [
        "## What are the next 2 models you are thinking of and why?\n",
        "1. SVM: SVM is a good model for classication, and we are trying to classify rice base on features, which is appropriate.\n",
        "2. Naive Bayes: Naive Bayes is a good model for classication task, and we are trying to classify rice base on features, which is appropriate."
      ],
      "metadata": {
        "id": "PSFMDs0Sl1MZ"
      }
    },
    {
      "cell_type": "markdown",
      "source": [
        "## Conclusion section: What is the conclusion of your 1st model? What can be done to possibly improve it?\n",
        "\n",
        "The model currently perform well, with above 90% accuracy on testing data. However, there still some room to improve. We can tune our hyperparameter to try to achieve better metrics."
      ],
      "metadata": {
        "id": "FwQTJpEyl40y"
      }
    },
    {
      "cell_type": "code",
      "source": [
        "from sklearn.model_selection import train_test_split\n",
        "from sklearn.svm import SVC\n",
        "from sklearn.metrics import accuracy_score, classification_report\n",
        "\n",
        "\n",
        "\n",
        "# Initialize the SVM model\n",
        "svm_model = SVC(kernel='linear', C=1.0)\n",
        "\n",
        "# Train the SVM model\n",
        "svm_model.fit(X_train, y_train)\n",
        "\n",
        "# Make predictions on the test set\n",
        "y_pred = svm_model.predict(X_test)\n",
        "\n",
        "# Evaluate the model\n",
        "accuracy = accuracy_score(y_test, y_pred)\n",
        "report = classification_report(y_test, y_pred)\n",
        "\n",
        "# Print the results\n",
        "print(f'Accuracy: {accuracy}')\n",
        "print('Classification Report:\\n', report)\n"
      ],
      "metadata": {
        "colab": {
          "base_uri": "https://localhost:8080/"
        },
        "id": "r2nqxUnIu468",
        "outputId": "70c30e85-60d9-4089-c5f1-d08173101c38"
      },
      "execution_count": null,
      "outputs": [
        {
          "output_type": "stream",
          "name": "stdout",
          "text": [
            "Accuracy: 0.9304461942257218\n",
            "Classification Report:\n",
            "               precision    recall  f1-score   support\n",
            "\n",
            "           0       0.92      0.93      0.92       350\n",
            "           1       0.94      0.93      0.94       412\n",
            "\n",
            "    accuracy                           0.93       762\n",
            "   macro avg       0.93      0.93      0.93       762\n",
            "weighted avg       0.93      0.93      0.93       762\n",
            "\n"
          ]
        },
        {
          "output_type": "stream",
          "name": "stderr",
          "text": [
            "/usr/local/lib/python3.10/dist-packages/sklearn/utils/validation.py:1143: DataConversionWarning: A column-vector y was passed when a 1d array was expected. Please change the shape of y to (n_samples, ), for example using ravel().\n",
            "  y = column_or_1d(y, warn=True)\n"
          ]
        }
      ]
    },
    {
      "cell_type": "code",
      "source": [
        "import matplotlib.pyplot as plt\n",
        "from sklearn.model_selection import learning_curve\n",
        "\n",
        "# Generate learning curves\n",
        "train_sizes, train_scores, test_scores = learning_curve(svm_model, X, y, cv=5)\n",
        "\n",
        "# Plot learning curves\n",
        "plt.figure(figsize=(10, 6))\n",
        "plt.plot(train_sizes, np.mean(train_scores, axis=1), label='Training Score')\n",
        "plt.plot(train_sizes, np.mean(test_scores, axis=1), label='Testing Score')\n",
        "plt.title('Learning Curve')\n",
        "plt.xlabel('Training Examples')\n",
        "plt.ylabel('Score (Accuracy in this case)')\n",
        "plt.legend()\n",
        "plt.show()"
      ],
      "metadata": {
        "colab": {
          "base_uri": "https://localhost:8080/",
          "height": 1000
        },
        "id": "lOgEE4JXxFYi",
        "outputId": "8e23f705-971e-4b6e-9ea6-2a1e0bcc666e"
      },
      "execution_count": null,
      "outputs": [
        {
          "output_type": "stream",
          "name": "stderr",
          "text": [
            "/usr/local/lib/python3.10/dist-packages/sklearn/utils/validation.py:1143: DataConversionWarning: A column-vector y was passed when a 1d array was expected. Please change the shape of y to (n_samples, ), for example using ravel().\n",
            "  y = column_or_1d(y, warn=True)\n",
            "/usr/local/lib/python3.10/dist-packages/sklearn/utils/validation.py:1143: DataConversionWarning: A column-vector y was passed when a 1d array was expected. Please change the shape of y to (n_samples, ), for example using ravel().\n",
            "  y = column_or_1d(y, warn=True)\n",
            "/usr/local/lib/python3.10/dist-packages/sklearn/utils/validation.py:1143: DataConversionWarning: A column-vector y was passed when a 1d array was expected. Please change the shape of y to (n_samples, ), for example using ravel().\n",
            "  y = column_or_1d(y, warn=True)\n",
            "/usr/local/lib/python3.10/dist-packages/sklearn/utils/validation.py:1143: DataConversionWarning: A column-vector y was passed when a 1d array was expected. Please change the shape of y to (n_samples, ), for example using ravel().\n",
            "  y = column_or_1d(y, warn=True)\n",
            "/usr/local/lib/python3.10/dist-packages/sklearn/utils/validation.py:1143: DataConversionWarning: A column-vector y was passed when a 1d array was expected. Please change the shape of y to (n_samples, ), for example using ravel().\n",
            "  y = column_or_1d(y, warn=True)\n",
            "/usr/local/lib/python3.10/dist-packages/sklearn/utils/validation.py:1143: DataConversionWarning: A column-vector y was passed when a 1d array was expected. Please change the shape of y to (n_samples, ), for example using ravel().\n",
            "  y = column_or_1d(y, warn=True)\n",
            "/usr/local/lib/python3.10/dist-packages/sklearn/utils/validation.py:1143: DataConversionWarning: A column-vector y was passed when a 1d array was expected. Please change the shape of y to (n_samples, ), for example using ravel().\n",
            "  y = column_or_1d(y, warn=True)\n",
            "/usr/local/lib/python3.10/dist-packages/sklearn/utils/validation.py:1143: DataConversionWarning: A column-vector y was passed when a 1d array was expected. Please change the shape of y to (n_samples, ), for example using ravel().\n",
            "  y = column_or_1d(y, warn=True)\n",
            "/usr/local/lib/python3.10/dist-packages/sklearn/utils/validation.py:1143: DataConversionWarning: A column-vector y was passed when a 1d array was expected. Please change the shape of y to (n_samples, ), for example using ravel().\n",
            "  y = column_or_1d(y, warn=True)\n",
            "/usr/local/lib/python3.10/dist-packages/sklearn/utils/validation.py:1143: DataConversionWarning: A column-vector y was passed when a 1d array was expected. Please change the shape of y to (n_samples, ), for example using ravel().\n",
            "  y = column_or_1d(y, warn=True)\n",
            "/usr/local/lib/python3.10/dist-packages/sklearn/utils/validation.py:1143: DataConversionWarning: A column-vector y was passed when a 1d array was expected. Please change the shape of y to (n_samples, ), for example using ravel().\n",
            "  y = column_or_1d(y, warn=True)\n",
            "/usr/local/lib/python3.10/dist-packages/sklearn/utils/validation.py:1143: DataConversionWarning: A column-vector y was passed when a 1d array was expected. Please change the shape of y to (n_samples, ), for example using ravel().\n",
            "  y = column_or_1d(y, warn=True)\n",
            "/usr/local/lib/python3.10/dist-packages/sklearn/utils/validation.py:1143: DataConversionWarning: A column-vector y was passed when a 1d array was expected. Please change the shape of y to (n_samples, ), for example using ravel().\n",
            "  y = column_or_1d(y, warn=True)\n",
            "/usr/local/lib/python3.10/dist-packages/sklearn/utils/validation.py:1143: DataConversionWarning: A column-vector y was passed when a 1d array was expected. Please change the shape of y to (n_samples, ), for example using ravel().\n",
            "  y = column_or_1d(y, warn=True)\n",
            "/usr/local/lib/python3.10/dist-packages/sklearn/utils/validation.py:1143: DataConversionWarning: A column-vector y was passed when a 1d array was expected. Please change the shape of y to (n_samples, ), for example using ravel().\n",
            "  y = column_or_1d(y, warn=True)\n",
            "/usr/local/lib/python3.10/dist-packages/sklearn/utils/validation.py:1143: DataConversionWarning: A column-vector y was passed when a 1d array was expected. Please change the shape of y to (n_samples, ), for example using ravel().\n",
            "  y = column_or_1d(y, warn=True)\n",
            "/usr/local/lib/python3.10/dist-packages/sklearn/utils/validation.py:1143: DataConversionWarning: A column-vector y was passed when a 1d array was expected. Please change the shape of y to (n_samples, ), for example using ravel().\n",
            "  y = column_or_1d(y, warn=True)\n",
            "/usr/local/lib/python3.10/dist-packages/sklearn/utils/validation.py:1143: DataConversionWarning: A column-vector y was passed when a 1d array was expected. Please change the shape of y to (n_samples, ), for example using ravel().\n",
            "  y = column_or_1d(y, warn=True)\n",
            "/usr/local/lib/python3.10/dist-packages/sklearn/utils/validation.py:1143: DataConversionWarning: A column-vector y was passed when a 1d array was expected. Please change the shape of y to (n_samples, ), for example using ravel().\n",
            "  y = column_or_1d(y, warn=True)\n",
            "/usr/local/lib/python3.10/dist-packages/sklearn/utils/validation.py:1143: DataConversionWarning: A column-vector y was passed when a 1d array was expected. Please change the shape of y to (n_samples, ), for example using ravel().\n",
            "  y = column_or_1d(y, warn=True)\n",
            "/usr/local/lib/python3.10/dist-packages/sklearn/utils/validation.py:1143: DataConversionWarning: A column-vector y was passed when a 1d array was expected. Please change the shape of y to (n_samples, ), for example using ravel().\n",
            "  y = column_or_1d(y, warn=True)\n",
            "/usr/local/lib/python3.10/dist-packages/sklearn/utils/validation.py:1143: DataConversionWarning: A column-vector y was passed when a 1d array was expected. Please change the shape of y to (n_samples, ), for example using ravel().\n",
            "  y = column_or_1d(y, warn=True)\n",
            "/usr/local/lib/python3.10/dist-packages/sklearn/utils/validation.py:1143: DataConversionWarning: A column-vector y was passed when a 1d array was expected. Please change the shape of y to (n_samples, ), for example using ravel().\n",
            "  y = column_or_1d(y, warn=True)\n",
            "/usr/local/lib/python3.10/dist-packages/sklearn/utils/validation.py:1143: DataConversionWarning: A column-vector y was passed when a 1d array was expected. Please change the shape of y to (n_samples, ), for example using ravel().\n",
            "  y = column_or_1d(y, warn=True)\n",
            "/usr/local/lib/python3.10/dist-packages/sklearn/utils/validation.py:1143: DataConversionWarning: A column-vector y was passed when a 1d array was expected. Please change the shape of y to (n_samples, ), for example using ravel().\n",
            "  y = column_or_1d(y, warn=True)\n"
          ]
        },
        {
          "output_type": "display_data",
          "data": {
            "text/plain": [
              "<Figure size 1000x600 with 1 Axes>"
            ],
            "image/png": "[encoded data removed]"
          },
          "metadata": {}
        }
      ]
    }
  ]
}